{
  "cells": [
    {
      "cell_type": "markdown",
      "metadata": {
        "id": "view-in-github",
        "colab_type": "text"
      },
      "source": [
        "<a href=\"https://colab.research.google.com/github/pratyushagrawal77/NLP_S5/blob/main/Pratyush_Agrawal_22070126077_NLP2.ipynb\" target=\"_parent\"><img src=\"https://colab.research.google.com/assets/colab-badge.svg\" alt=\"Open In Colab\"/></a>"
      ]
    },
    {
      "cell_type": "markdown",
      "source": [
        "Pratyush Agrawal\n",
        "\n",
        "22070126077\n",
        "\n",
        "A3"
      ],
      "metadata": {
        "id": "8MigkbT2qZL_"
      }
    },
    {
      "cell_type": "code",
      "execution_count": null,
      "metadata": {
        "id": "I8GLNRiwoTG8",
        "outputId": "3f368554-1054-4e41-e3c1-133a5a4565b2"
      },
      "outputs": [
        {
          "name": "stderr",
          "output_type": "stream",
          "text": [
            "[nltk_data] Downloading package stopwords to\n",
            "[nltk_data]     C:\\Users\\laksh\\AppData\\Roaming\\nltk_data...\n",
            "[nltk_data]   Package stopwords is already up-to-date!\n",
            "[nltk_data] Downloading package punkt to\n",
            "[nltk_data]     C:\\Users\\laksh\\AppData\\Roaming\\nltk_data...\n",
            "[nltk_data]   Package punkt is already up-to-date!\n",
            "[nltk_data] Downloading package wordnet to\n",
            "[nltk_data]     C:\\Users\\laksh\\AppData\\Roaming\\nltk_data...\n",
            "[nltk_data]   Package wordnet is already up-to-date!\n"
          ]
        },
        {
          "data": {
            "text/plain": [
              "True"
            ]
          },
          "execution_count": 1,
          "metadata": {},
          "output_type": "execute_result"
        }
      ],
      "source": [
        "# Import necessary libraries\n",
        "import pandas as pd\n",
        "import numpy as np\n",
        "import re\n",
        "import nltk\n",
        "from nltk.corpus import stopwords\n",
        "from nltk.tokenize import word_tokenize\n",
        "from nltk.stem import WordNetLemmatizer\n",
        "from sklearn.model_selection import train_test_split\n",
        "from sklearn.metrics import classification_report, confusion_matrix\n",
        "import matplotlib.pyplot as plt\n",
        "import seaborn as sns\n",
        "from tensorflow.keras.preprocessing.text import Tokenizer\n",
        "from tensorflow.keras.preprocessing.sequence import pad_sequences\n",
        "from tensorflow.keras.models import Sequential\n",
        "from tensorflow.keras.layers import Embedding, LSTM, Dense, Dropout\n",
        "from tensorflow.keras.callbacks import EarlyStopping\n",
        "\n",
        "# Download NLTK data\n",
        "nltk.download('stopwords')\n",
        "nltk.download('punkt')\n",
        "nltk.download('wordnet')\n"
      ]
    },
    {
      "cell_type": "markdown",
      "source": [
        "# Importing Libraries and Downloading NLTK Data\n",
        "\n",
        "This code block imports all the necessary libraries required for loading data, preprocessing text, building machine learning models, and evaluating their performance.\n",
        "\n",
        "### 1. **Importing Core Libraries:**\n",
        "   - **`import pandas as pd`**: Pandas is used for data manipulation and analysis. It provides powerful tools for reading, cleaning, and analyzing data in tabular form.\n",
        "   - **`import numpy as np`**: NumPy is used for numerical operations and handling arrays. It is often used in machine learning for mathematical computations.\n",
        "\n",
        "### 2. **Text Preprocessing Libraries:**\n",
        "   - **`import re`**: The `re` library is used for regular expressions, which helps in finding and manipulating patterns in text (e.g., removing URLs, special characters).\n",
        "   - **`import nltk`**: NLTK (Natural Language Toolkit) is a popular library for natural language processing (NLP) tasks.\n",
        "   - **`from nltk.corpus import stopwords`**: This imports a list of common stopwords (e.g., \"the\", \"is\", \"in\") that are often removed from text to focus on meaningful words.\n",
        "   - **`from nltk.tokenize import word_tokenize`**: The `word_tokenize` function is used to split text into individual tokens (words).\n",
        "   - **`from nltk.stem import WordNetLemmatizer`**: The `WordNetLemmatizer` is used for lemmatization, which reduces words to their base form (e.g., \"running\" becomes \"run\").\n",
        "\n",
        "### 3. **Data Splitting and Evaluation Libraries:**\n",
        "   - **`from sklearn.model_selection import train_test_split`**: This function is used to split the dataset into training and test sets.\n",
        "   - **`from sklearn.metrics import classification_report, confusion_matrix`**: These metrics are used to evaluate the performance of a classification model:\n",
        "     - **`classification_report`** provides precision, recall, F1-score, and accuracy metrics.\n",
        "     - **`confusion_matrix`** shows the counts of true positives, true negatives, false positives, and false negatives.\n",
        "\n",
        "### 4. **Visualization Libraries:**\n",
        "   - **`import matplotlib.pyplot as plt`**: Matplotlib is a powerful library for creating visualizations such as line charts, bar charts, and scatter plots.\n",
        "   - **`import seaborn as sns`**: Seaborn is built on top of Matplotlib and provides more aesthetic, easy-to-use functions for statistical data visualization (e.g., heatmaps, correlation plots).\n",
        "\n",
        "### 5. **Keras Libraries for Neural Networks:**\n",
        "   - **`from tensorflow.keras.preprocessing.text import Tokenizer`**: Tokenizer is used to convert text into sequences of tokens (numbers).\n",
        "   - **`from tensorflow.keras.preprocessing.sequence import pad_sequences`**: This is used to ensure all sequences have the same length by adding padding to shorter sequences.\n",
        "   - **`from tensorflow.keras.models import Sequential`**: Sequential is a simple model type that allows you to stack layers one by one in a linear manner.\n",
        "   - **`from tensorflow.keras.layers import Embedding, LSTM, Dense, Dropout`**:\n",
        "     - **`Embedding`**: The embedding layer converts words (encoded as integers) into dense vectors.\n",
        "     - **`LSTM`**: Long Short-Term Memory layers are a type of recurrent neural network (RNN) that can learn and capture sequential patterns in data.\n",
        "     - **`Dense`**: Fully connected (dense) layers are used in neural networks to connect each neuron in one layer to every neuron in the next layer.\n",
        "     - **`Dropout`**: Dropout is used to prevent overfitting by randomly \"dropping out\" neurons during training.\n",
        "\n",
        "### 6. **Callbacks for Early Stopping:**\n",
        "   - **`from tensorflow.keras.callbacks import EarlyStopping`**: EarlyStopping is a callback that stops training when a monitored metric (e.g., validation loss) stops improving for a certain number of epochs, preventing overfitting and saving time.\n",
        "\n",
        "### 7. **Downloading NLTK Data:**\n",
        "   - **`nltk.download('stopwords')`**: Downloads the list of stopwords.\n",
        "   - **`nltk.download('punkt')`**: Downloads the tokenizer data needed to split text into tokens.\n",
        "   - **`nltk.download('wordnet')`**: Downloads the WordNet corpus required for lemmatization, which provides base forms of words.\n"
      ],
      "metadata": {
        "id": "RLUn4m9JqQVn"
      }
    },
    {
      "cell_type": "code",
      "execution_count": null,
      "metadata": {
        "id": "B7QeC7e5oTHB"
      },
      "outputs": [],
      "source": [
        "# Load data\n",
        "file_path = \"C:\\\\Users\\\\laksh\\\\Downloads\\\\archive (4)\\\\training.1600000.processed.noemoticon.csv\"\n",
        "data = pd.read_csv(file_path, encoding='latin1', header=None)\n",
        "\n",
        "# Assign column names\n",
        "data.columns = ['Sentiment', 'ID', 'Date', 'Query', 'User', 'Text']\n",
        "\n",
        "# Preprocessing Steps\n",
        "def preprocess_text(text):\n",
        "    # Lowercase\n",
        "    text = text.lower()\n",
        "\n",
        "    # Remove URLs, hashtags, symbols, and extra whitespace\n",
        "    text = re.sub(r'http\\S+|www\\S+|https\\S+|@\\S+|#\\S+|[^A-Za-z\\s]', '', text)\n",
        "    text = re.sub(r'\\s+', ' ', text).strip()\n",
        "\n",
        "    # Tokenization\n",
        "    tokens = word_tokenize(text)\n",
        "\n",
        "    # Lemmatization\n",
        "    lemmatizer = WordNetLemmatizer()\n",
        "    tokens = [lemmatizer.lemmatize(word) for word in tokens if word not in stopwords.words('english')]\n",
        "\n",
        "    return ' '.join(tokens)\n",
        "\n",
        "# Apply preprocessing\n",
        "data['Text'] = data['Text'].apply(preprocess_text)\n",
        "\n",
        "# Remove empty rows and duplicates\n",
        "data.dropna(inplace=True)\n",
        "data.drop_duplicates(subset=['Text'], inplace=True)\n",
        "\n",
        "# Convert Sentiment column to binary (0 = negative, 1 = positive)\n",
        "data['Sentiment'] = data['Sentiment'].apply(lambda x: 1 if x == 4 else 0)\n"
      ]
    },
    {
      "cell_type": "markdown",
      "source": [
        "# Data Loading and Preprocessing\n",
        "\n",
        "This code is responsible for loading the dataset, performing text preprocessing, cleaning the data, and converting sentiment labels into a binary format.\n",
        "\n",
        "### 1. **Loading the Data:**\n",
        "   - **`file_path = \"C:\\\\Users\\\\laksh\\\\Downloads\\\\archive (4)\\\\training.1600000.processed.noemoticon.csv\"`**:\n",
        "     - Specifies the path to the dataset, which is a CSV file containing processed tweets without emoticons.\n",
        "   - **`data = pd.read_csv(file_path, encoding='latin1', header=None)`**:\n",
        "     - Loads the dataset using pandas `read_csv()` function. The dataset uses Latin-1 encoding, and since it doesn't have headers, `header=None` is used to prevent the first row from being treated as column names.\n",
        "\n",
        "### 2. **Assigning Column Names:**\n",
        "   - **`data.columns = ['Sentiment', 'ID', 'Date', 'Query', 'User', 'Text']`**:\n",
        "     - The dataset is assigned column names for better readability and ease of access:\n",
        "       - `Sentiment`: The sentiment label (target variable).\n",
        "       - `ID`: A unique identifier for each tweet.\n",
        "       - `Date`: The date the tweet was posted.\n",
        "       - `Query`: A placeholder for the query (not useful in this case).\n",
        "       - `User`: The user who posted the tweet.\n",
        "       - `Text`: The actual tweet content.\n",
        "\n",
        "### 3. **Text Preprocessing:**\n",
        "   The preprocessing function is applied to clean the text data.\n",
        "   - **Lowercasing:**\n",
        "     - **`text = text.lower()`**: Converts the text to lowercase to maintain uniformity.\n",
        "   - **Removing Unwanted Patterns:**\n",
        "     - **`re.sub(r'http\\S+|www\\S+|https\\S+|@\\S+|#\\S+|[^A-Za-z\\s]', '', text)`**:\n",
        "       - This regex pattern removes URLs (`http`, `https`, `www`), mentions (`@user`), hashtags (`#`), and any non-alphabetical characters (e.g., punctuation, symbols).\n",
        "     - **`re.sub(r'\\s+', ' ', text).strip()`**: Replaces extra whitespace with a single space and removes leading/trailing spaces.\n",
        "   - **Tokenization:**\n",
        "     - **`tokens = word_tokenize(text)`**: Splits the cleaned text into individual tokens (words).\n",
        "   - **Lemmatization:**\n",
        "     - **`lemmatizer = WordNetLemmatizer()`**: Initializes a lemmatizer that reduces words to their base or root form (e.g., \"running\" becomes \"run\").\n",
        "     - **Stopword Removal**: **`if word not in stopwords.words('english')`**: Removes common stopwords like \"the\", \"and\", \"in\", etc., to focus on meaningful words.\n",
        "\n",
        "   The function **`preprocess_text`** returns the cleaned, tokenized, and lemmatized text as a single string.\n",
        "\n",
        "### 4. **Applying Preprocessing:**\n",
        "   - **`data['Text'] = data['Text'].apply(preprocess_text)`**:\n",
        "     - The `preprocess_text()` function is applied to each row in the `Text` column, cleaning the tweet content.\n",
        "\n",
        "### 5. **Removing Empty Rows and Duplicates:**\n",
        "   - **`data.dropna(inplace=True)`**: Removes any rows where the `Text` column is empty or contains NaN values.\n",
        "   - **`data.drop_duplicates(subset=['Text'], inplace=True)`**: Removes duplicate rows based on the `Text` column, ensuring each tweet is unique.\n",
        "\n",
        "### 6. **Converting Sentiment to Binary:**\n",
        "   - **`data['Sentiment'] = data['Sentiment'].apply(lambda x: 1 if x == 4 else 0)`**:\n",
        "     - Converts the `Sentiment` column into a binary format:\n",
        "       - **1** represents **positive sentiment** (tweets labeled with 4).\n",
        "       - **0** represents **negative sentiment** (tweets labeled with 0).\n"
      ],
      "metadata": {
        "id": "dOKuRhIoqCdq"
      }
    },
    {
      "cell_type": "code",
      "execution_count": null,
      "metadata": {
        "id": "ByLWQ5UCoTHC"
      },
      "outputs": [],
      "source": [
        "# Split the data into training and test sets\n",
        "train_data, test_data = train_test_split(data, test_size=0.2, random_state=42)\n",
        "\n",
        "# Tokenize and pad sequences\n",
        "tokenizer = Tokenizer(num_words=10000, oov_token='<OOV>')\n",
        "tokenizer.fit_on_texts(train_data['Text'])\n",
        "word_index = tokenizer.word_index\n",
        "\n",
        "max_sequence_length = max([len(x.split()) for x in data['Text']])\n",
        "\n",
        "X_train = tokenizer.texts_to_sequences(train_data['Text'])\n",
        "X_train = pad_sequences(X_train, maxlen=max_sequence_length, padding='post')\n",
        "\n",
        "X_test = tokenizer.texts_to_sequences(test_data['Text'])\n",
        "X_test = pad_sequences(X_test, maxlen=max_sequence_length, padding='post')\n",
        "\n",
        "y_train = train_data['Sentiment'].values\n",
        "y_test = test_data['Sentiment'].values\n"
      ]
    },
    {
      "cell_type": "markdown",
      "source": [
        "# Data Preparation and Preprocessing\n",
        "\n",
        "This code is responsible for splitting the data into training and test sets, tokenizing the text, and padding the sequences to ensure uniform input length for the LSTM model.\n",
        "\n",
        "### 1. **Splitting the Data:**\n",
        "   - **`train_data, test_data = train_test_split(data, test_size=0.2, random_state=42)`**:\n",
        "     - The data is split into **training** and **test** sets using the `train_test_split` function.\n",
        "     - `test_size=0.2` means that 20% of the data will be allocated to the test set, while 80% is used for training.\n",
        "     - `random_state=42` ensures the split is reproducible, so every time you run this code, the split will be the same.\n",
        "\n",
        "### 2. **Tokenization:**\n",
        "   - **`Tokenizer(num_words=10000, oov_token='<OOV>')`**:\n",
        "     - This initializes a tokenizer that will convert text into sequences of integers. The parameter `num_words=10000` limits the vocabulary to the 10,000 most frequent words.\n",
        "     - `oov_token='<OOV>'` specifies that any out-of-vocabulary word will be replaced with the token `<OOV>`.\n",
        "   - **`tokenizer.fit_on_texts(train_data['Text'])`**:\n",
        "     - The tokenizer is \"fitted\" on the training data, meaning it learns the vocabulary based on the frequency of words in the training set. This will not affect the test set directly, as the test set should be treated as unseen data.\n",
        "   - **`word_index = tokenizer.word_index`**:\n",
        "     - This stores the mapping of words to their respective integer indices (used for encoding the text into sequences). Each word in the vocabulary is assigned a unique index.\n",
        "\n",
        "### 3. **Determine Maximum Sequence Length:**\n",
        "   - **`max_sequence_length = max([len(x.split()) for x in data['Text']])`**:\n",
        "     - This calculates the maximum sequence length by identifying the longest sentence in the dataset. This ensures that all input sequences have the same length, which is necessary for the LSTM model.\n",
        "     - `x.split()` splits the sentences into words, and `len()` measures how many words are in each sentence.\n",
        "\n",
        "### 4. **Tokenize and Pad Sequences:**\n",
        "   - **`X_train = tokenizer.texts_to_sequences(train_data['Text'])`**:\n",
        "     - This converts each sentence in the training data into a sequence of integers, where each integer represents a word based on the `word_index`.\n",
        "   - **`X_train = pad_sequences(X_train, maxlen=max_sequence_length, padding='post')`**:\n",
        "     - The sequences are padded to ensure uniform length. Sentences shorter than the `max_sequence_length` are padded with zeros at the end (`padding='post'`).\n",
        "   - **`X_test = tokenizer.texts_to_sequences(test_data['Text'])`** and **`X_test = pad_sequences(X_test, maxlen=max_sequence_length, padding='post')`**:\n",
        "     - Similarly, the test data is tokenized and padded to match the `max_sequence_length` from the training data.\n",
        "\n",
        "### 5. **Label Extraction:**\n",
        "   - **`y_train = train_data['Sentiment'].values`** and **`y_test = test_data['Sentiment'].values`**:\n",
        "     - The sentiment labels (target values) are extracted from the training and test data. These will be used as the target variable during model training and evaluation.\n"
      ],
      "metadata": {
        "id": "6ueetnqMp06z"
      }
    },
    {
      "cell_type": "code",
      "execution_count": null,
      "metadata": {
        "id": "t1EQA5ouoTHC",
        "outputId": "2eb3fb22-dbd2-4279-bdf1-4952e0fb4542"
      },
      "outputs": [
        {
          "name": "stdout",
          "output_type": "stream",
          "text": [
            "Epoch 1/3\n",
            "295344/295344 [==============================] - 2090s 7ms/step - loss: 0.4763 - accuracy: 0.7720 - val_loss: 0.4578 - val_accuracy: 0.7830\n",
            "Epoch 2/3\n",
            "295344/295344 [==============================] - 2078s 7ms/step - loss: 0.4503 - accuracy: 0.7880 - val_loss: 0.4536 - val_accuracy: 0.7862\n",
            "Epoch 3/3\n",
            "295344/295344 [==============================] - 2077s 7ms/step - loss: 0.4452 - accuracy: 0.7914 - val_loss: 0.4532 - val_accuracy: 0.7867\n"
          ]
        }
      ],
      "source": [
        "# Model parameters for first set\n",
        "batch_size = 4\n",
        "embedding_dim = 10\n",
        "lstm_units = 8\n",
        "\n",
        "# Define the model\n",
        "model_1 = Sequential()\n",
        "model_1.add(Embedding(input_dim=10000, output_dim=embedding_dim, input_length=max_sequence_length))\n",
        "model_1.add(LSTM(units=lstm_units))\n",
        "model_1.add(Dense(1, activation='sigmoid'))\n",
        "\n",
        "# Compile the model\n",
        "model_1.compile(optimizer='adam', loss='binary_crossentropy', metrics=['accuracy'])\n",
        "\n",
        "# Train the model\n",
        "history_1 = model_1.fit(X_train, y_train, epochs=3, batch_size=batch_size, validation_data=(X_test, y_test), callbacks=[EarlyStopping(monitor='val_loss', patience=2)])\n"
      ]
    },
    {
      "cell_type": "markdown",
      "source": [
        "# Explanation of Model 1 (Single LSTM Layer)\n",
        "\n",
        "This code sets up a neural network using a single LSTM layer for binary classification. Below is a breakdown of the model's components and what they do.\n",
        "\n",
        "### 1. **Model Parameters:**\n",
        "   - **`batch_size = 4`**: The number of samples processed at once before updating the model weights.\n",
        "   - **`embedding_dim = 10`**: This defines the size of the embedding vectors for each word in the input. Each word will be represented in 10 dimensions.\n",
        "   - **`lstm_units = 8`**: The number of units (neurons) in the LSTM layer, which control the model’s capacity to capture patterns in the sequence data.\n",
        "\n",
        "### 2. **Model Definition:**\n",
        "   - **`model_1 = Sequential()`**: This initializes the model as a Sequential model, which stacks layers in a linear order.\n",
        "   - **`Embedding(input_dim=10000, output_dim=embedding_dim, input_length=max_sequence_length)`**:\n",
        "     - The embedding layer maps input tokens (words represented by integers) to dense vectors (embeddings) of size 10.\n",
        "     - `input_dim=10000` defines the vocabulary size (up to 10,000 unique words).\n",
        "     - `input_length` refers to the length of each input sequence.\n",
        "   - **`LSTM(units=lstm_units)`**: The LSTM layer with 8 units. This is the only LSTM layer in this model, and it processes sequential input data, learning temporal relationships in the data.\n",
        "   - **`Dense(1, activation='sigmoid')`**: A dense (fully connected) output layer with a single unit. The sigmoid activation function is appropriate for binary classification, producing an output probability between 0 and 1.\n",
        "\n",
        "### 3. **Model Compilation:**\n",
        "   - **`optimizer='adam'`**: The Adam optimizer is used for gradient descent, adjusting the model weights dynamically and efficiently.\n",
        "   - **`loss='binary_crossentropy'`**: This is the loss function for binary classification, which measures how well the model performs during training.\n",
        "   - **`metrics=['accuracy']`**: The model will track accuracy during training to monitor performance.\n",
        "\n",
        "### 4. **Model Training:**\n",
        "   - **`epochs=3`**: The number of complete passes through the training data is set to 3.\n",
        "   - **`batch_size=4`**: The model processes 4 samples at a time before updating the weights.\n",
        "   - **`validation_data=(X_test, y_test)`**: The model's performance will be validated on the test dataset (X_test, y_test) after each epoch.\n",
        "   - **`callbacks=[EarlyStopping(monitor='val_loss', patience=2)]`**: Early stopping is used to avoid overfitting. If the validation loss does not improve for 2 consecutive epochs, training will stop early.\n",
        "\n",
        "### 5. **Output:**\n",
        "   After each epoch, the model will provide feedback on the training and validation accuracy and loss. If the validation loss plateaus for 2 epochs, the model stops training early to prevent overfitting.\n"
      ],
      "metadata": {
        "id": "7ah0vfH1ppIr"
      }
    },
    {
      "cell_type": "code",
      "execution_count": null,
      "metadata": {
        "id": "0zf3mVEBoTHD",
        "outputId": "f99be4e9-5b53-41c8-823d-49586aad199b"
      },
      "outputs": [
        {
          "name": "stdout",
          "output_type": "stream",
          "text": [
            "Epoch 1/3\n",
            "147672/147672 [==============================] - 1532s 10ms/step - loss: 0.4715 - accuracy: 0.7748 - val_loss: 0.4543 - val_accuracy: 0.7858\n",
            "Epoch 2/3\n",
            "147672/147672 [==============================] - 1538s 10ms/step - loss: 0.4452 - accuracy: 0.7910 - val_loss: 0.4507 - val_accuracy: 0.7891\n",
            "Epoch 3/3\n",
            "147672/147672 [==============================] - 1529s 10ms/step - loss: 0.4364 - accuracy: 0.7965 - val_loss: 0.4480 - val_accuracy: 0.7895\n"
          ]
        }
      ],
      "source": [
        "# Model parameters for second set\n",
        "batch_size = 8\n",
        "embedding_dim = 30\n",
        "lstm_units = 16\n",
        "\n",
        "# Define the model\n",
        "model_2 = Sequential()\n",
        "model_2.add(Embedding(input_dim=25000, output_dim=embedding_dim, input_length=max_sequence_length))\n",
        "model_2.add(LSTM(units=lstm_units, return_sequences=True))\n",
        "model_2.add(LSTM(units=lstm_units))\n",
        "model_2.add(Dense(1, activation='sigmoid'))\n",
        "\n",
        "# Compile the model\n",
        "model_2.compile(optimizer='adam', loss='binary_crossentropy', metrics=['accuracy'])\n",
        "\n",
        "# Train the model\n",
        "history_2 = model_2.fit(X_train, y_train, epochs=3, batch_size=batch_size, validation_data=(X_test, y_test), callbacks=[EarlyStopping(monitor='val_loss', patience=2)])\n"
      ]
    },
    {
      "cell_type": "markdown",
      "source": [
        "# Explanation of Model 2 (Two LSTM Layers)\n",
        "\n",
        "This code defines and trains a deep learning model using two LSTM (Long Short-Term Memory) layers for a binary classification task. Below is a step-by-step breakdown of what happens in the code:\n",
        "\n",
        "### 1. **Model Parameters:**\n",
        "   - **`batch_size = 8`**: The number of samples the model processes before updating the weights.\n",
        "   - **`embedding_dim = 30`**: The dimension of the word embeddings (i.e., how many dimensions each word is mapped to in the embedding layer).\n",
        "   - **`lstm_units = 16`**: The number of units (cells) in the LSTM layers. Each LSTM layer will have 16 units.\n",
        "\n",
        "### 2. **Model Definition:**\n",
        "   - **`model_2 = Sequential()`**: Initializes the model as a sequential neural network, which means layers are stacked one after the other.\n",
        "   - **`Embedding(input_dim=25000, output_dim=embedding_dim, input_length=max_sequence_length)`**:\n",
        "     - This layer maps input words (represented as integers) to dense vectors (embeddings) of size 30.\n",
        "     - The `input_dim=25000` means that the input can have a vocabulary size of up to 25,000 unique words.\n",
        "     - `input_length` is the length of each input sequence.\n",
        "   - **`LSTM(units=lstm_units, return_sequences=True)`**: The first LSTM layer with 16 units. `return_sequences=True` means that the output of this layer will return the full sequence (which is required when stacking LSTM layers).\n",
        "   - **`LSTM(units=lstm_units)`**: The second LSTM layer with 16 units, but this one does not return sequences since it's the last recurrent layer.\n",
        "   - **`Dense(1, activation='sigmoid')`**: A dense (fully connected) output layer with a single unit and a sigmoid activation function. This is suited for binary classification, where the output is a probability value between 0 and 1.\n",
        "\n",
        "### 3. **Model Compilation:**\n",
        "   - **`optimizer='adam'`**: The Adam optimizer is used for training, which adapts the learning rate and improves the optimization process.\n",
        "   - **`loss='binary_crossentropy'`**: The loss function used for binary classification. It measures how well the model is performing.\n",
        "   - **`metrics=['accuracy']`**: The model will track accuracy as the primary performance metric during training and validation.\n",
        "\n",
        "### 4. **Model Training:**\n",
        "   - **`epochs=3`**: The model will be trained for 3 complete passes through the dataset.\n",
        "   - **`validation_data=(X_test, y_test)`**: During training, the model will also evaluate its performance on the test data (X_test and y_test) to monitor generalization.\n",
        "   - **`callbacks=[EarlyStopping(monitor='val_loss', patience=2)]`**: Early stopping is used to prevent overfitting. If the validation loss (`val_loss`) does not improve for 2 consecutive epochs, training will stop early.\n",
        "\n",
        "### 5. **Output:**\n",
        "   The model's performance (loss and accuracy) will be evaluated on both the training and validation datasets after each epoch. The training process will stop early if the validation loss stops improving for 2 epochs in a row.\n"
      ],
      "metadata": {
        "id": "0puLFqLlpd4Z"
      }
    },
    {
      "cell_type": "code",
      "execution_count": null,
      "metadata": {
        "id": "tgEbgqYWoTHD",
        "outputId": "1d8c792b-280a-4141-9caa-8e43e664c4fb"
      },
      "outputs": [
        {
          "name": "stdout",
          "output_type": "stream",
          "text": [
            "9230/9230 [==============================] - 23s 2ms/step\n",
            "9230/9230 [==============================] - 36s 4ms/step\n",
            "Classification Report for First Set (Single LSTM Layer):\n",
            "               precision    recall  f1-score   support\n",
            "\n",
            "           0       0.79      0.79      0.79    148916\n",
            "           1       0.79      0.78      0.78    146428\n",
            "\n",
            "    accuracy                           0.79    295344\n",
            "   macro avg       0.79      0.79      0.79    295344\n",
            "weighted avg       0.79      0.79      0.79    295344\n",
            "\n",
            "\n",
            "Classification Report for Second Set (Two LSTM Layers):\n",
            "               precision    recall  f1-score   support\n",
            "\n",
            "           0       0.79      0.79      0.79    148916\n",
            "           1       0.79      0.78      0.79    146428\n",
            "\n",
            "    accuracy                           0.79    295344\n",
            "   macro avg       0.79      0.79      0.79    295344\n",
            "weighted avg       0.79      0.79      0.79    295344\n",
            "\n"
          ]
        },
        {
          "data": {
            "image/png": "[encoded data removed]",
            "text/plain": [
              "<Figure size 1400x600 with 4 Axes>"
            ]
          },
          "metadata": {},
          "output_type": "display_data"
        }
      ],
      "source": [
        "# Predictions for both models\n",
        "y_pred_1 = (model_1.predict(X_test) > 0.5).astype('int32')\n",
        "y_pred_2 = (model_2.predict(X_test) > 0.5).astype('int32')\n",
        "\n",
        "# Classification reports\n",
        "report_1 = classification_report(y_test, y_pred_1)\n",
        "report_2 = classification_report(y_test, y_pred_2)\n",
        "\n",
        "# Confusion matrices\n",
        "conf_matrix_1 = confusion_matrix(y_test, y_pred_1)\n",
        "conf_matrix_2 = confusion_matrix(y_test, y_pred_2)\n",
        "\n",
        "# Display classification reports\n",
        "print(\"Classification Report for First Set (Single LSTM Layer):\\n\", report_1)\n",
        "print(\"\\nClassification Report for Second Set (Two LSTM Layers):\\n\", report_2)\n",
        "\n",
        "# Plot confusion matrices\n",
        "plt.figure(figsize=(14, 6))\n",
        "\n",
        "plt.subplot(1, 2, 1)\n",
        "sns.heatmap(conf_matrix_1, annot=True, fmt='d', cmap='Blues')\n",
        "plt.title('Confusion Matrix for First Set')\n",
        "\n",
        "plt.subplot(1, 2, 2)\n",
        "sns.heatmap(conf_matrix_2, annot=True, fmt='d', cmap='Blues')\n",
        "plt.title('Confusion Matrix for Second Set')\n",
        "\n",
        "plt.show()\n"
      ]
    },
    {
      "cell_type": "markdown",
      "source": [
        "# Comparison of Results Between Two Assignments\n",
        "\n",
        "## First Assignment: Logistic Regression, SVC, and Random Forest with CountVectorizer and TFIDFVectorizer\n",
        "\n",
        "| Model                         | Vectorizer       | Precision (Class 0) | Recall (Class 0) | F1-Score (Class 0) | Precision (Class 4) | Recall (Class 4) | F1-Score (Class 4) | Accuracy |\n",
        "|-------------------------------|------------------|---------------------|------------------|--------------------|---------------------|------------------|--------------------|----------|\n",
        "| Logistic Regression Mimic      | CountVectorizer  | 0.79                | 0.74             | 0.77               | 0.76                | 0.80             | 0.78               | 0.77     |\n",
        "| Logistic Regression Mimic      | TFIDFVectorizer  | 0.78                | 0.76             | 0.77               | 0.77                | 0.79             | 0.78               | 0.77     |\n",
        "| SVC Mimic                      | CountVectorizer  | 0.79                | 0.78             | 0.78               | 0.78                | 0.79             | 0.79               | 0.79     |\n",
        "| SVC Mimic                      | TFIDFVectorizer  | 0.79                | 0.78             | 0.78               | 0.78                | 0.79             | 0.79               | 0.79     |\n",
        "| Random Forest Mimic            | CountVectorizer  | 0.79                | 0.78             | 0.78               | 0.79                | 0.79             | 0.79               | 0.79     |\n",
        "| Random Forest Mimic            | TFIDFVectorizer  | 0.79                | 0.78             | 0.78               | 0.78                | 0.80             | 0.79               | 0.79     |\n",
        "\n",
        "- **Best Overall Accuracy**: 0.79 (SVC and Random Forest with either Vectorizer)\n",
        "- **Best Precision for Class 0**: Logistic Regression with CountVectorizer\n",
        "- **Best Recall for Class 4**: Logistic Regression with CountVectorizer\n",
        "\n",
        "## Second Assignment: LSTM Models\n",
        "\n",
        "| Model                | Precision (Class 0) | Recall (Class 0) | F1-Score (Class 0) | Precision (Class 1) | Recall (Class 1) | F1-Score (Class 1) | Accuracy |\n",
        "|----------------------|---------------------|------------------|--------------------|---------------------|------------------|--------------------|----------|\n",
        "| Single LSTM Layer     | 0.79                | 0.79             | 0.79               | 0.79                | 0.78             | 0.78               | 0.79     |\n",
        "| Two LSTM Layers       | 0.79                | 0.79             | 0.79               | 0.79                | 0.78             | 0.79               | 0.79     |\n",
        "\n",
        "- **Best Accuracy**: 0.79 (Both Single and Two LSTM Layers)\n",
        "- **Similar Results**: Both models perform similarly with equal precision, recall, and F1-score across classes.\n",
        "\n",
        "## Conclusion\n",
        "\n",
        "- The **LSTM models** perform similarly in terms of accuracy to **SVC and Random Forest** from the first assignment, with all models achieving an accuracy of **0.79**.\n",
        "- **Logistic Regression** shows slightly lower accuracy (0.77), but it performs well with precision for Class 0 and recall for Class 4 in the CountVectorizer setup.\n",
        "- **SVC and Random Forest** offer competitive performance when paired with both vectorizers, making them reliable options for classification tasks.\n"
      ],
      "metadata": {
        "id": "HgmVYkk3o3hf"
      }
    },
    {
      "cell_type": "code",
      "source": [
        "!apt-get install texlive texlive-xetex texlive-latex-extra pandoc\n"
      ],
      "metadata": {
        "colab": {
          "base_uri": "https://localhost:8080/"
        },
        "id": "2igvk3sFqVyj",
        "outputId": "ad605581-b9d0-4871-edd5-5a699110d2b7"
      },
      "execution_count": null,
      "outputs": [
        {
          "output_type": "stream",
          "name": "stdout",
          "text": [
            "Reading package lists... Done\n",
            "Building dependency tree... Done\n",
            "Reading state information... Done\n",
            "pandoc is already the newest version (2.9.2.1-3ubuntu2).\n",
            "texlive is already the newest version (2021.20220204-1).\n",
            "texlive-latex-extra is already the newest version (2021.20220204-1).\n",
            "texlive-xetex is already the newest version (2021.20220204-1).\n",
            "0 upgraded, 0 newly installed, 0 to remove and 49 not upgraded.\n"
          ]
        }
      ]
    },
    {
      "cell_type": "code",
      "source": [
        "!pip install pypandoc"
      ],
      "metadata": {
        "colab": {
          "base_uri": "https://localhost:8080/"
        },
        "id": "kTB_Y63NqqnD",
        "outputId": "4a171da4-8766-4662-d5b2-1f44a34c0cdf"
      },
      "execution_count": null,
      "outputs": [
        {
          "output_type": "stream",
          "name": "stdout",
          "text": [
            "Requirement already satisfied: pypandoc in /usr/local/lib/python3.10/dist-packages (1.13)\n"
          ]
        }
      ]
    },
    {
      "cell_type": "code",
      "source": [
        "# Mount Google Drive\n",
        "from google.colab import drive\n",
        "drive.mount('/content/drive')\n"
      ],
      "metadata": {
        "colab": {
          "base_uri": "https://localhost:8080/"
        },
        "id": "WXeV1Tlkq1QD",
        "outputId": "264d3eca-1816-4875-f904-f067617b191c"
      },
      "execution_count": null,
      "outputs": [
        {
          "output_type": "stream",
          "name": "stdout",
          "text": [
            "Drive already mounted at /content/drive; to attempt to forcibly remount, call drive.mount(\"/content/drive\", force_remount=True).\n"
          ]
        }
      ]
    },
    {
      "cell_type": "code",
      "source": [
        "# Convert the notebook to PDF using nbconvert\n",
        "!jupyter nbconvert --to pdf \"/content/drive/My Drive/Colab Notebooks/PARTH_ TRIPATHI_071.ipynb\""
      ],
      "metadata": {
        "colab": {
          "base_uri": "https://localhost:8080/"
        },
        "id": "WZvvy0nYq8Yn",
        "outputId": "370d27a1-5a58-45bb-b44e-2b28e7c6fda5"
      },
      "execution_count": null,
      "outputs": [
        {
          "output_type": "stream",
          "name": "stdout",
          "text": [
            "[NbConvertApp] Converting notebook /content/drive/My Drive/Colab Notebooks/PARTH_ TRIPATHI_071.ipynb to pdf\n",
            "[NbConvertApp] Support files will be in PARTH_ TRIPATHI_071_files/\n",
            "[NbConvertApp] Making directory ./PARTH_ TRIPATHI_071_files\n",
            "[NbConvertApp] Writing 79244 bytes to notebook.tex\n",
            "[NbConvertApp] Building PDF\n",
            "[NbConvertApp] Running xelatex 3 times: ['xelatex', 'notebook.tex', '-quiet']\n",
            "[NbConvertApp] Running bibtex 1 time: ['bibtex', 'notebook']\n",
            "[NbConvertApp] WARNING | bibtex had problems, most likely because there were no citations\n",
            "[NbConvertApp] PDF successfully created\n",
            "[NbConvertApp] Writing 121259 bytes to /content/drive/My Drive/Colab Notebooks/PARTH_ TRIPATHI_071.pdf\n"
          ]
        }
      ]
    }
  ],
  "metadata": {
    "kernelspec": {
      "display_name": "base",
      "language": "python",
      "name": "python3"
    },
    "language_info": {
      "codemirror_mode": {
        "name": "ipython",
        "version": 3
      },
      "file_extension": ".py",
      "mimetype": "text/x-python",
      "name": "python",
      "nbconvert_exporter": "python",
      "pygments_lexer": "ipython3",
      "version": "3.9.18"
    },
    "colab": {
      "provenance": [],
      "include_colab_link": true
    }
  },
  "nbformat": 4,
  "nbformat_minor": 0
}